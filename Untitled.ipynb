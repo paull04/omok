{
 "cells": [
  {
   "cell_type": "code",
   "execution_count": 1,
   "id": "131131ef",
   "metadata": {},
   "outputs": [],
   "source": [
    "from train import Train"
   ]
  },
  {
   "cell_type": "code",
   "execution_count": null,
   "id": "d51adaec",
   "metadata": {},
   "outputs": [
    {
     "name": "stdout",
     "output_type": "stream",
     "text": [
      "0\n",
      "1\n"
     ]
    }
   ],
   "source": [
    "agent = Train(19)\n",
    "agent.run(100)\n",
    "agent.save('fa')\n"
   ]
  },
  {
   "cell_type": "code",
   "execution_count": null,
   "id": "a85c7ebc",
   "metadata": {},
   "outputs": [],
   "source": []
  }
 ],
 "metadata": {
  "kernelspec": {
   "display_name": "Python 3 (ipykernel)",
   "language": "python",
   "name": "python3"
  },
  "language_info": {
   "codemirror_mode": {
    "name": "ipython",
    "version": 3
   },
   "file_extension": ".py",
   "mimetype": "text/x-python",
   "name": "python",
   "nbconvert_exporter": "python",
   "pygments_lexer": "ipython3",
   "version": "3.9.6"
  }
 },
 "nbformat": 4,
 "nbformat_minor": 5
}
